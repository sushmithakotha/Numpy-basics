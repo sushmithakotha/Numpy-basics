{
 "cells": [
  {
   "cell_type": "code",
   "execution_count": 12,
   "id": "f6c8da7a",
   "metadata": {},
   "outputs": [
    {
     "data": {
      "text/plain": [
       "array([1, 2, 3])"
      ]
     },
     "execution_count": 12,
     "metadata": {},
     "output_type": "execute_result"
    }
   ],
   "source": [
    "# importing the numpy package in to the project\n",
    "#np.array sending the values of list to change it\n",
    "import numpy as np\n",
    "list = [1,2,3,]\n",
    "np.array(list)"
   ]
  },
  {
   "cell_type": "code",
   "execution_count": 15,
   "id": "31d8294a",
   "metadata": {},
   "outputs": [
    {
     "data": {
      "text/plain": [
       "array([2, 3, 4, 5])"
      ]
     },
     "execution_count": 15,
     "metadata": {},
     "output_type": "execute_result"
    }
   ],
   "source": [
    "list = [2,3,4,5]\n",
    "np.array(list)"
   ]
  },
  {
   "cell_type": "code",
   "execution_count": 7,
   "id": "b7e47b9c",
   "metadata": {},
   "outputs": [
    {
     "data": {
      "text/plain": [
       "array([[1, 2, 3],\n",
       "       [4, 5, 6]])"
      ]
     },
     "execution_count": 7,
     "metadata": {},
     "output_type": "execute_result"
    }
   ],
   "source": [
    "matrix = [[1,2,3],[4,5,6]]\n",
    "np.array(matrix)"
   ]
  },
  {
   "cell_type": "code",
   "execution_count": 14,
   "id": "abdeaf65",
   "metadata": {},
   "outputs": [
    {
     "data": {
      "text/plain": [
       "array([[2, 3, 4],\n",
       "       [6, 4, 3],\n",
       "       [5, 7, 9],\n",
       "       [6, 8, 2]])"
      ]
     },
     "execution_count": 14,
     "metadata": {},
     "output_type": "execute_result"
    }
   ],
   "source": [
    "matrix = [[2,3,4],[6,4,3],[5,7,9],[6,8,2]]\n",
    "np.array(matrix)"
   ]
  },
  {
   "cell_type": "code",
   "execution_count": 18,
   "id": "9cb492a2",
   "metadata": {},
   "outputs": [
    {
     "data": {
      "text/plain": [
       "array([0, 1, 2, 3, 4, 5, 6, 7, 8, 9])"
      ]
     },
     "execution_count": 18,
     "metadata": {},
     "output_type": "execute_result"
    }
   ],
   "source": [
    "#  range is defined as arange()  will give the range values from 0 to 10\n",
    "np.arange(0,10)"
   ]
  },
  {
   "cell_type": "code",
   "execution_count": 20,
   "id": "8d2c90dc",
   "metadata": {},
   "outputs": [
    {
     "data": {
      "text/plain": [
       "array([0, 2, 4, 6, 8])"
      ]
     },
     "execution_count": 20,
     "metadata": {},
     "output_type": "execute_result"
    }
   ],
   "source": [
    "# arange of (0,10,2) will give the range values from 0 to 10 will difference of 2\n",
    "np.arange(0,10,2)"
   ]
  },
  {
   "cell_type": "code",
   "execution_count": 23,
   "id": "71d6ca00",
   "metadata": {},
   "outputs": [
    {
     "data": {
      "text/plain": [
       "array([ 5, 10, 15, 20])"
      ]
     },
     "execution_count": 23,
     "metadata": {},
     "output_type": "execute_result"
    }
   ],
   "source": [
    "np.arange(5,25,5)"
   ]
  },
  {
   "cell_type": "code",
   "execution_count": 25,
   "id": "871999c7",
   "metadata": {},
   "outputs": [
    {
     "data": {
      "text/plain": [
       "array([ 2,  7, 12, 17, 22, 27, 32, 37, 42, 47, 52, 57, 62, 67, 72, 77, 82,\n",
       "       87, 92, 97])"
      ]
     },
     "execution_count": 25,
     "metadata": {},
     "output_type": "execute_result"
    }
   ],
   "source": [
    "np.arange(2,100,5)"
   ]
  },
  {
   "cell_type": "code",
   "execution_count": 27,
   "id": "63eb3af5",
   "metadata": {},
   "outputs": [
    {
     "data": {
      "text/plain": [
       "array([ 4,  6,  8, 10, 12, 14, 16, 18])"
      ]
     },
     "execution_count": 27,
     "metadata": {},
     "output_type": "execute_result"
    }
   ],
   "source": [
    "np.arange(4,20,2)"
   ]
  },
  {
   "cell_type": "code",
   "execution_count": 30,
   "id": "53a27836",
   "metadata": {},
   "outputs": [
    {
     "data": {
      "text/plain": [
       "array([0., 0., 0., 0.])"
      ]
     },
     "execution_count": 30,
     "metadata": {},
     "output_type": "execute_result"
    }
   ],
   "source": [
    "# zeros method defined as zeros() and it  will create an array which consist of zeros\n",
    "np.zeros(4)\n"
   ]
  },
  {
   "cell_type": "code",
   "execution_count": 199,
   "id": "1b6d9b4d",
   "metadata": {},
   "outputs": [
    {
     "data": {
      "text/plain": [
       "array([0.])"
      ]
     },
     "execution_count": 199,
     "metadata": {},
     "output_type": "execute_result"
    }
   ],
   "source": [
    "# zero given in range\n",
    "np.zeros(1)"
   ]
  },
  {
   "cell_type": "code",
   "execution_count": 3,
   "id": "c8065b57",
   "metadata": {},
   "outputs": [
    {
     "data": {
      "text/plain": [
       "array([[4., 4., 4., 4.],\n",
       "       [4., 4., 4., 4.],\n",
       "       [4., 4., 4., 4.],\n",
       "       [4., 4., 4., 4.]])"
      ]
     },
     "execution_count": 3,
     "metadata": {},
     "output_type": "execute_result"
    }
   ],
   "source": [
    "# to create a 4*4 matrix we should place two braces to create more than one dimension matrix we use double braces\n",
    "import numpy as np\n",
    "s = np.zeros((4,4))\n",
    "s+=4\n",
    "s"
   ]
  },
  {
   "cell_type": "code",
   "execution_count": 38,
   "id": "71eeb97c",
   "metadata": {},
   "outputs": [
    {
     "data": {
      "text/plain": [
       "array([[0., 0., 0., 0., 0., 0., 0., 0.],\n",
       "       [0., 0., 0., 0., 0., 0., 0., 0.],\n",
       "       [0., 0., 0., 0., 0., 0., 0., 0.],\n",
       "       [0., 0., 0., 0., 0., 0., 0., 0.],\n",
       "       [0., 0., 0., 0., 0., 0., 0., 0.],\n",
       "       [0., 0., 0., 0., 0., 0., 0., 0.],\n",
       "       [0., 0., 0., 0., 0., 0., 0., 0.],\n",
       "       [0., 0., 0., 0., 0., 0., 0., 0.]])"
      ]
     },
     "execution_count": 38,
     "metadata": {},
     "output_type": "execute_result"
    }
   ],
   "source": [
    "np.zeros((8,8))"
   ]
  },
  {
   "cell_type": "code",
   "execution_count": 40,
   "id": "28d252d9",
   "metadata": {},
   "outputs": [
    {
     "data": {
      "text/plain": [
       "array([[0., 0., 0., 0., 0.],\n",
       "       [0., 0., 0., 0., 0.],\n",
       "       [0., 0., 0., 0., 0.],\n",
       "       [0., 0., 0., 0., 0.],\n",
       "       [0., 0., 0., 0., 0.]])"
      ]
     },
     "execution_count": 40,
     "metadata": {},
     "output_type": "execute_result"
    }
   ],
   "source": [
    "np.zeros((5,5))"
   ]
  },
  {
   "cell_type": "code",
   "execution_count": 201,
   "id": "b0b1343e",
   "metadata": {},
   "outputs": [
    {
     "data": {
      "text/plain": [
       "array([1., 1., 1., 1.])"
      ]
     },
     "execution_count": 201,
     "metadata": {},
     "output_type": "execute_result"
    }
   ],
   "source": [
    "# ones method defined as ones()  and used to dispaly one\n",
    "np.ones(4)"
   ]
  },
  {
   "cell_type": "code",
   "execution_count": 44,
   "id": "106d8e32",
   "metadata": {},
   "outputs": [
    {
     "data": {
      "text/plain": [
       "array([[1., 1., 1.],\n",
       "       [1., 1., 1.],\n",
       "       [1., 1., 1.]])"
      ]
     },
     "execution_count": 44,
     "metadata": {},
     "output_type": "execute_result"
    }
   ],
   "source": [
    "np.ones((3,3))"
   ]
  },
  {
   "cell_type": "code",
   "execution_count": 46,
   "id": "41bd843e",
   "metadata": {},
   "outputs": [
    {
     "data": {
      "text/plain": [
       "array([[1., 1., 1., 1., 1., 1., 1., 1.],\n",
       "       [1., 1., 1., 1., 1., 1., 1., 1.],\n",
       "       [1., 1., 1., 1., 1., 1., 1., 1.],\n",
       "       [1., 1., 1., 1., 1., 1., 1., 1.],\n",
       "       [1., 1., 1., 1., 1., 1., 1., 1.],\n",
       "       [1., 1., 1., 1., 1., 1., 1., 1.],\n",
       "       [1., 1., 1., 1., 1., 1., 1., 1.],\n",
       "       [1., 1., 1., 1., 1., 1., 1., 1.]])"
      ]
     },
     "execution_count": 46,
     "metadata": {},
     "output_type": "execute_result"
    }
   ],
   "source": [
    "np.ones((8,8))"
   ]
  },
  {
   "cell_type": "code",
   "execution_count": 48,
   "id": "10254154",
   "metadata": {},
   "outputs": [
    {
     "data": {
      "text/plain": [
       "array([[1., 1., 1., 1., 1.],\n",
       "       [1., 1., 1., 1., 1.],\n",
       "       [1., 1., 1., 1., 1.],\n",
       "       [1., 1., 1., 1., 1.],\n",
       "       [1., 1., 1., 1., 1.],\n",
       "       [1., 1., 1., 1., 1.]])"
      ]
     },
     "execution_count": 48,
     "metadata": {},
     "output_type": "execute_result"
    }
   ],
   "source": [
    "np.ones((6,5))"
   ]
  },
  {
   "cell_type": "code",
   "execution_count": 51,
   "id": "1445469c",
   "metadata": {},
   "outputs": [
    {
     "data": {
      "text/plain": [
       "array([[1., 1., 1., 1., 1., 1., 1., 1., 1.],\n",
       "       [1., 1., 1., 1., 1., 1., 1., 1., 1.],\n",
       "       [1., 1., 1., 1., 1., 1., 1., 1., 1.],\n",
       "       [1., 1., 1., 1., 1., 1., 1., 1., 1.],\n",
       "       [1., 1., 1., 1., 1., 1., 1., 1., 1.],\n",
       "       [1., 1., 1., 1., 1., 1., 1., 1., 1.],\n",
       "       [1., 1., 1., 1., 1., 1., 1., 1., 1.],\n",
       "       [1., 1., 1., 1., 1., 1., 1., 1., 1.]])"
      ]
     },
     "execution_count": 51,
     "metadata": {},
     "output_type": "execute_result"
    }
   ],
   "source": [
    "np.ones((8,9))"
   ]
  },
  {
   "cell_type": "code",
   "execution_count": 53,
   "id": "020985ff",
   "metadata": {},
   "outputs": [
    {
     "data": {
      "text/plain": [
       "array([[1., 1., 1., 1., 1., 1., 1., 1.],\n",
       "       [1., 1., 1., 1., 1., 1., 1., 1.],\n",
       "       [1., 1., 1., 1., 1., 1., 1., 1.],\n",
       "       [1., 1., 1., 1., 1., 1., 1., 1.],\n",
       "       [1., 1., 1., 1., 1., 1., 1., 1.],\n",
       "       [1., 1., 1., 1., 1., 1., 1., 1.],\n",
       "       [1., 1., 1., 1., 1., 1., 1., 1.],\n",
       "       [1., 1., 1., 1., 1., 1., 1., 1.]])"
      ]
     },
     "execution_count": 53,
     "metadata": {},
     "output_type": "execute_result"
    }
   ],
   "source": [
    "np.ones((8,8))"
   ]
  },
  {
   "cell_type": "code",
   "execution_count": 55,
   "id": "42e2be13",
   "metadata": {},
   "outputs": [
    {
     "data": {
      "text/plain": [
       "array([[1., 1., 1., 1., 1., 1., 1.],\n",
       "       [1., 1., 1., 1., 1., 1., 1.],\n",
       "       [1., 1., 1., 1., 1., 1., 1.],\n",
       "       [1., 1., 1., 1., 1., 1., 1.],\n",
       "       [1., 1., 1., 1., 1., 1., 1.],\n",
       "       [1., 1., 1., 1., 1., 1., 1.],\n",
       "       [1., 1., 1., 1., 1., 1., 1.]])"
      ]
     },
     "execution_count": 55,
     "metadata": {},
     "output_type": "execute_result"
    }
   ],
   "source": [
    "np.ones((7,7))"
   ]
  },
  {
   "cell_type": "code",
   "execution_count": 5,
   "id": "d58e0619",
   "metadata": {},
   "outputs": [
    {
     "data": {
      "text/plain": [
       "array([ 0. ,  2.5,  5. ,  7.5, 10. ])"
      ]
     },
     "execution_count": 5,
     "metadata": {},
     "output_type": "execute_result"
    }
   ],
   "source": [
    "#linspace() method can take two or three arugments\n",
    "#linspace()used to specifically split the range function it will split according to the last value mentioned\n",
    "np.linspace(0,10,5)"
   ]
  },
  {
   "cell_type": "code",
   "execution_count": 66,
   "id": "fc7209f5",
   "metadata": {},
   "outputs": [
    {
     "data": {
      "text/plain": [
       "array([10.])"
      ]
     },
     "execution_count": 66,
     "metadata": {},
     "output_type": "execute_result"
    }
   ],
   "source": [
    "# it will split the range only once because we gave it to split only once\n",
    "np.linspace(10,40,1)"
   ]
  },
  {
   "cell_type": "code",
   "execution_count": 64,
   "id": "9fa88637",
   "metadata": {},
   "outputs": [
    {
     "data": {
      "text/plain": [
       "array([30., 35., 40., 45., 50.])"
      ]
     },
     "execution_count": 64,
     "metadata": {},
     "output_type": "execute_result"
    }
   ],
   "source": [
    "#ill split the range only 5 times because we gave it to split only 5 times\n",
    "np.linspace(30,50,5)"
   ]
  },
  {
   "cell_type": "code",
   "execution_count": 67,
   "id": "7a6cd62d",
   "metadata": {},
   "outputs": [
    {
     "data": {
      "text/plain": [
       "array([80.        , 80.71428571, 81.42857143, 82.14285714, 82.85714286,\n",
       "       83.57142857, 84.28571429, 85.        , 85.71428571, 86.42857143,\n",
       "       87.14285714, 87.85714286, 88.57142857, 89.28571429, 90.        ])"
      ]
     },
     "execution_count": 67,
     "metadata": {},
     "output_type": "execute_result"
    }
   ],
   "source": [
    "# it will split 15 times the range because we gave 15\n",
    "np.linspace(80,90,15)"
   ]
  },
  {
   "cell_type": "code",
   "execution_count": 10,
   "id": "0077a378",
   "metadata": {},
   "outputs": [
    {
     "data": {
      "text/plain": [
       "array([[1., 0., 0., 0.],\n",
       "       [0., 1., 0., 0.],\n",
       "       [0., 0., 1., 0.],\n",
       "       [0., 0., 0., 1.]])"
      ]
     },
     "execution_count": 10,
     "metadata": {},
     "output_type": "execute_result"
    }
   ],
   "source": [
    "# identity  defined as eye()  and it is used to take an array as identity matrix\n",
    "s = np.eye(4)\n",
    "s"
   ]
  },
  {
   "cell_type": "code",
   "execution_count": 72,
   "id": "0c5efc28",
   "metadata": {},
   "outputs": [
    {
     "data": {
      "text/plain": [
       "array([[1., 0., 0., 0., 0.],\n",
       "       [0., 1., 0., 0., 0.],\n",
       "       [0., 0., 1., 0., 0.],\n",
       "       [0., 0., 0., 1., 0.],\n",
       "       [0., 0., 0., 0., 1.]])"
      ]
     },
     "execution_count": 72,
     "metadata": {},
     "output_type": "execute_result"
    }
   ],
   "source": [
    "np.eye(5)"
   ]
  },
  {
   "cell_type": "code",
   "execution_count": 74,
   "id": "e58e2899",
   "metadata": {},
   "outputs": [
    {
     "data": {
      "text/plain": [
       "array([[1., 0., 0., 0., 0., 0., 0., 0., 0.],\n",
       "       [0., 1., 0., 0., 0., 0., 0., 0., 0.],\n",
       "       [0., 0., 1., 0., 0., 0., 0., 0., 0.],\n",
       "       [0., 0., 0., 1., 0., 0., 0., 0., 0.],\n",
       "       [0., 0., 0., 0., 1., 0., 0., 0., 0.],\n",
       "       [0., 0., 0., 0., 0., 1., 0., 0., 0.],\n",
       "       [0., 0., 0., 0., 0., 0., 1., 0., 0.],\n",
       "       [0., 0., 0., 0., 0., 0., 0., 1., 0.],\n",
       "       [0., 0., 0., 0., 0., 0., 0., 0., 1.]])"
      ]
     },
     "execution_count": 74,
     "metadata": {},
     "output_type": "execute_result"
    }
   ],
   "source": [
    "np.eye(9)"
   ]
  },
  {
   "cell_type": "code",
   "execution_count": 76,
   "id": "68d0c6b2",
   "metadata": {},
   "outputs": [
    {
     "data": {
      "text/plain": [
       "array([0.9520161 , 0.32939037, 0.04697484, 0.37408419, 0.62012662])"
      ]
     },
     "execution_count": 76,
     "metadata": {},
     "output_type": "execute_result"
    }
   ],
   "source": [
    "# random  defined rand() take values random which cant even predicted \n",
    "np.random.rand(5)"
   ]
  },
  {
   "cell_type": "code",
   "execution_count": 2,
   "id": "f1e255da",
   "metadata": {},
   "outputs": [
    {
     "data": {
      "text/plain": [
       "array([0.39716712, 0.91864173, 0.53132273, 0.60876033, 0.84483707,\n",
       "       0.47992556, 0.30497405])"
      ]
     },
     "execution_count": 2,
     "metadata": {},
     "output_type": "execute_result"
    }
   ],
   "source": [
    "import numpy as np\n",
    "np.random.rand(7)"
   ]
  },
  {
   "cell_type": "code",
   "execution_count": 11,
   "id": "b1c6ad43",
   "metadata": {},
   "outputs": [
    {
     "data": {
      "text/plain": [
       "array([[ 0,  1,  2,  3,  4],\n",
       "       [ 5,  6,  7,  8,  9],\n",
       "       [10, 11, 12, 13, 14],\n",
       "       [15, 16, 17, 18, 19],\n",
       "       [20, 21, 22, 23, 24]])"
      ]
     },
     "execution_count": 11,
     "metadata": {},
     "output_type": "execute_result"
    }
   ],
   "source": [
    "# reshape\n",
    "import numpy as np\n",
    "b = np.arange(25).reshape(5,5)\n",
    "b"
   ]
  },
  {
   "cell_type": "code",
   "execution_count": 20,
   "id": "ed4b97c0",
   "metadata": {},
   "outputs": [
    {
     "data": {
      "text/plain": [
       "array([[ 0,  1,  2,  3,  4,  5,  6,  7,  8,  9],\n",
       "       [10, 11, 12, 13, 14, 15, 16, 17, 18, 19],\n",
       "       [20, 21, 22, 23, 24, 25, 26, 27, 28, 29],\n",
       "       [30, 31, 32, 33, 34, 35, 36, 37, 38, 39],\n",
       "       [40, 41, 42, 43, 44, 45, 46, 47, 48, 49]])"
      ]
     },
     "execution_count": 20,
     "metadata": {},
     "output_type": "execute_result"
    }
   ],
   "source": [
    "# reshape\n",
    "import numpy as np\n",
    "b = np.arange(50).reshape(5,10)\n",
    "b"
   ]
  },
  {
   "cell_type": "code",
   "execution_count": 22,
   "id": "fd27518f",
   "metadata": {},
   "outputs": [
    {
     "data": {
      "text/plain": [
       "array([[0, 1, 2],\n",
       "       [3, 4, 5]])"
      ]
     },
     "execution_count": 22,
     "metadata": {},
     "output_type": "execute_result"
    }
   ],
   "source": [
    "# reshape\n",
    "import numpy as np\n",
    "b = np.arange(6).reshape(2,3)\n",
    "b"
   ]
  },
  {
   "cell_type": "code",
   "execution_count": 82,
   "id": "d746d386",
   "metadata": {},
   "outputs": [
    {
     "data": {
      "text/plain": [
       "array([[ 0,  1,  2,  3,  4,  5,  6,  7,  8,  9],\n",
       "       [10, 11, 12, 13, 14, 15, 16, 17, 18, 19],\n",
       "       [20, 21, 22, 23, 24, 25, 26, 27, 28, 29],\n",
       "       [30, 31, 32, 33, 34, 35, 36, 37, 38, 39],\n",
       "       [40, 41, 42, 43, 44, 45, 46, 47, 48, 49],\n",
       "       [50, 51, 52, 53, 54, 55, 56, 57, 58, 59],\n",
       "       [60, 61, 62, 63, 64, 65, 66, 67, 68, 69],\n",
       "       [70, 71, 72, 73, 74, 75, 76, 77, 78, 79],\n",
       "       [80, 81, 82, 83, 84, 85, 86, 87, 88, 89],\n",
       "       [90, 91, 92, 93, 94, 95, 96, 97, 98, 99]])"
      ]
     },
     "execution_count": 82,
     "metadata": {},
     "output_type": "execute_result"
    }
   ],
   "source": [
    "# reshape\n",
    "import numpy as np\n",
    "b = np.arange(100).reshape(10,10)\n",
    "b"
   ]
  },
  {
   "cell_type": "code",
   "execution_count": 28,
   "id": "25b96445",
   "metadata": {},
   "outputs": [
    {
     "data": {
      "text/plain": [
       "array([[0, 1, 2, 3],\n",
       "       [4, 5, 6, 7]])"
      ]
     },
     "execution_count": 28,
     "metadata": {},
     "output_type": "execute_result"
    }
   ],
   "source": [
    "# reshape\n",
    "import numpy as np\n",
    "b = np.arange(8).reshape(2,4)\n",
    "b"
   ]
  },
  {
   "cell_type": "code",
   "execution_count": 30,
   "id": "2f41e4ad",
   "metadata": {},
   "outputs": [
    {
     "data": {
      "text/plain": [
       "array([[ 0,  1,  2,  3],\n",
       "       [ 4,  5,  6,  7],\n",
       "       [ 8,  9, 10, 11]])"
      ]
     },
     "execution_count": 30,
     "metadata": {},
     "output_type": "execute_result"
    }
   ],
   "source": [
    "g = np.arange(12).reshape(3,4)\n",
    "g"
   ]
  },
  {
   "cell_type": "code",
   "execution_count": 19,
   "id": "09ac300c",
   "metadata": {},
   "outputs": [
    {
     "data": {
      "text/plain": [
       "11"
      ]
     },
     "execution_count": 19,
     "metadata": {},
     "output_type": "execute_result"
    }
   ],
   "source": [
    "f = np.random.randint(1,50)\n",
    "f"
   ]
  },
  {
   "cell_type": "code",
   "execution_count": 23,
   "id": "f3005c42",
   "metadata": {},
   "outputs": [
    {
     "data": {
      "text/plain": [
       "array([86, 83, 76, 56, 66, 89, 94, 85, 66, 83, 84, 92, 50, 81, 73, 97, 96,\n",
       "       96, 94, 97])"
      ]
     },
     "execution_count": 23,
     "metadata": {},
     "output_type": "execute_result"
    }
   ],
   "source": [
    "g = np.random.randint(50,100,20)\n",
    "g\n",
    "\n"
   ]
  },
  {
   "cell_type": "code",
   "execution_count": 37,
   "id": "3c3e89b1",
   "metadata": {},
   "outputs": [
    {
     "data": {
      "text/plain": [
       "array([13, 12, 17, 16, 14, 18, 17, 16, 13, 15, 16, 18, 13, 12, 18, 14, 17,\n",
       "       19, 11, 16, 14, 10, 12, 17, 18, 14, 13, 17, 16, 19, 10, 17, 19, 13,\n",
       "       14, 12, 11, 12, 18, 14, 18, 18, 12, 15, 18, 10, 16, 16, 10, 11, 17,\n",
       "       19, 14, 10, 10, 12, 14, 15, 18, 18, 15, 13, 14, 14, 19, 18, 11, 12,\n",
       "       15, 17, 12, 10, 18, 19, 11, 15, 13, 14, 14, 10, 13, 11, 10, 10, 12,\n",
       "       13, 11, 18, 14, 13, 17, 17, 13, 17, 18, 19, 13, 17, 15, 16])"
      ]
     },
     "execution_count": 37,
     "metadata": {},
     "output_type": "execute_result"
    }
   ],
   "source": [
    "g = np.random.randint(10,20,100)\n",
    "g"
   ]
  },
  {
   "cell_type": "code",
   "execution_count": 52,
   "id": "a7730b94",
   "metadata": {},
   "outputs": [
    {
     "data": {
      "text/plain": [
       "90"
      ]
     },
     "execution_count": 52,
     "metadata": {},
     "output_type": "execute_result"
    }
   ],
   "source": [
    "g = np.random.randint(50,100)\n",
    "g"
   ]
  },
  {
   "cell_type": "code",
   "execution_count": 57,
   "id": "c8652b1b",
   "metadata": {},
   "outputs": [
    {
     "data": {
      "text/plain": [
       "array([[ 24,  43],\n",
       "       [ 64, 111]])"
      ]
     },
     "execution_count": 57,
     "metadata": {},
     "output_type": "execute_result"
    }
   ],
   "source": [
    "# matrix addition @ used for adding\n",
    "a = np.array([[2,3],[6,7]])\n",
    "b = np.array([[6,8],[4,9]])\n",
    "c = a @ b\n",
    "c"
   ]
  },
  {
   "cell_type": "code",
   "execution_count": 68,
   "id": "fcd235c8",
   "metadata": {},
   "outputs": [
    {
     "data": {
      "text/plain": [
       "array([[ 54,  97,  28],\n",
       "       [104, 183,  50],\n",
       "       [113, 201,  55]])"
      ]
     },
     "execution_count": 68,
     "metadata": {},
     "output_type": "execute_result"
    }
   ],
   "source": [
    "a = np.array([[2,3,6],[6,7,8],[6,8,9]])\n",
    "b = np.array([[6,8,2],[4,9,2],[5,9,3]])\n",
    "c = a@b\n",
    "c"
   ]
  },
  {
   "cell_type": "code",
   "execution_count": 73,
   "id": "f403a403",
   "metadata": {},
   "outputs": [
    {
     "data": {
      "text/plain": [
       "array([[102, 169,  52,  59],\n",
       "       [152, 255,  74, 105],\n",
       "       [161, 273,  79, 113],\n",
       "       [111, 192,  52,  91]])"
      ]
     },
     "execution_count": 73,
     "metadata": {},
     "output_type": "execute_result"
    }
   ],
   "source": [
    "a = np.array([[2,3,6,8],[6,7,8,8],[6,8,9,8],[6,8,5,3]])\n",
    "b = np.array([[6,8,2,5],[4,9,2,5],[5,9,3,3],[6,9,3,2]])\n",
    "c = a@b\n",
    "c"
   ]
  },
  {
   "cell_type": "code",
   "execution_count": 75,
   "id": "973231f4",
   "metadata": {},
   "outputs": [
    {
     "data": {
      "text/plain": [
       "array([[104, 173,  58,  66,  49],\n",
       "       [160, 271,  98, 133, 113],\n",
       "       [175, 301, 121, 162, 142],\n",
       "       [123, 216,  88, 133, 121],\n",
       "       [ 86, 148,  73,  89,  82]])"
      ]
     },
     "execution_count": 75,
     "metadata": {},
     "output_type": "execute_result"
    }
   ],
   "source": [
    "a = np.array([[2,3,6,8,1],[6,7,8,8,4],[6,8,9,8,7],[6,8,5,3,6],[2,3,4,5,6]])\n",
    "b = np.array([[6,8,2,5,6],[4,9,2,5,3],[5,9,3,3,2],[6,9,3,2,1],[2,4,6,7,8]])\n",
    "c = a@b\n",
    "c"
   ]
  },
  {
   "cell_type": "code",
   "execution_count": 122,
   "id": "208c6e9a",
   "metadata": {},
   "outputs": [
    {
     "data": {
      "text/plain": [
       "92"
      ]
     },
     "execution_count": 122,
     "metadata": {},
     "output_type": "execute_result"
    }
   ],
   "source": [
    "# randint() used to choose an random int\n",
    "s = np.random.randint(50,100,10)\n",
    "s.max()"
   ]
  },
  {
   "cell_type": "code",
   "execution_count": 126,
   "id": "aaf3620f",
   "metadata": {},
   "outputs": [
    {
     "data": {
      "text/plain": [
       "29"
      ]
     },
     "execution_count": 126,
     "metadata": {},
     "output_type": "execute_result"
    }
   ],
   "source": [
    "d = np.random.randint(7,40,1)\n",
    "d.min()"
   ]
  },
  {
   "cell_type": "code",
   "execution_count": 135,
   "id": "b3a7936d",
   "metadata": {},
   "outputs": [
    {
     "name": "stdout",
     "output_type": "stream",
     "text": [
      "20\n"
     ]
    }
   ],
   "source": [
    "s = np.random.randint(20,30,5)\n",
    "s.min()\n",
    "print(s.min())"
   ]
  },
  {
   "cell_type": "code",
   "execution_count": 151,
   "id": "0124e932",
   "metadata": {},
   "outputs": [
    {
     "data": {
      "text/plain": [
       "41"
      ]
     },
     "execution_count": 151,
     "metadata": {},
     "output_type": "execute_result"
    }
   ],
   "source": [
    "c = np.random.randint(30,50,3)\n",
    "c.min()"
   ]
  },
  {
   "cell_type": "code",
   "execution_count": 163,
   "id": "e2e1091a",
   "metadata": {},
   "outputs": [
    {
     "data": {
      "text/plain": [
       "array([[ 64,  91, 113],\n",
       "       [114, 151, 193]])"
      ]
     },
     "execution_count": 163,
     "metadata": {},
     "output_type": "execute_result"
    }
   ],
   "source": [
    "# matrix addition\n",
    "c = np.array([[2,3,8],[7,8,8]])\n",
    "d = np.array([[6,9,7],[4,3,9],[5,8,9]])\n",
    "e = c@d\n",
    "e"
   ]
  },
  {
   "cell_type": "code",
   "execution_count": 165,
   "id": "0ca58de9",
   "metadata": {},
   "outputs": [
    {
     "data": {
      "text/plain": [
       "array([[ 405,  399,  579],\n",
       "       [ 753,  749, 1081],\n",
       "       [1221, 1295, 1819]])"
      ]
     },
     "execution_count": 165,
     "metadata": {},
     "output_type": "execute_result"
    }
   ],
   "source": [
    "c = np.array([[1,2,3],[2,4,5],[5,6,7]])\n",
    "d = np.array([[6,8,1],[6,5,7],[3,4,5]])\n",
    "e = np.array([[5,7,7],[3,7,9],[6,0,4]])\n",
    "f = c.dot(d).dot(e)\n",
    "f"
   ]
  },
  {
   "cell_type": "code",
   "execution_count": 167,
   "id": "a021f67c",
   "metadata": {},
   "outputs": [
    {
     "data": {
      "text/plain": [
       "array([[ 50, 132,  83],\n",
       "       [ 71, 128,  89],\n",
       "       [ 52,  82,  52]])"
      ]
     },
     "execution_count": 167,
     "metadata": {},
     "output_type": "execute_result"
    }
   ],
   "source": [
    "c = np.array([[4,7,8],[7,9,4],[6,4,2]])\n",
    "d = np.array([[7,8,4],[2,4,5],[1,9,4]])\n",
    "e = c@d\n",
    "e"
   ]
  },
  {
   "cell_type": "code",
   "execution_count": 178,
   "id": "bddec380",
   "metadata": {},
   "outputs": [
    {
     "data": {
      "text/plain": [
       "array([[5., 5.],\n",
       "       [5., 5.]])"
      ]
     },
     "execution_count": 178,
     "metadata": {},
     "output_type": "execute_result"
    }
   ],
   "source": [
    "# getting out the matrix which we want by adding numbers to it\n",
    "s = np.ones((2,2))\n",
    "s+=4\n",
    "s\n"
   ]
  },
  {
   "cell_type": "code",
   "execution_count": 190,
   "id": "fd1899ba",
   "metadata": {},
   "outputs": [
    {
     "data": {
      "text/plain": [
       "array([[5., 5., 5., 5.],\n",
       "       [5., 5., 5., 5.],\n",
       "       [5., 5., 5., 5.],\n",
       "       [5., 5., 5., 5.]])"
      ]
     },
     "execution_count": 190,
     "metadata": {},
     "output_type": "execute_result"
    }
   ],
   "source": [
    "# adding five to the zero matrix\n",
    "s = np.zeros((4,4))\n",
    "s+=5\n",
    "s"
   ]
  },
  {
   "cell_type": "code",
   "execution_count": 193,
   "id": "212f39c8",
   "metadata": {},
   "outputs": [
    {
     "name": "stdout",
     "output_type": "stream",
     "text": [
      "[ 0  1  2  3  4  5  6  7  8  9 10 11 12 13 14 15 16 17 18 19]\n"
     ]
    },
    {
     "data": {
      "text/plain": [
       "8"
      ]
     },
     "execution_count": 193,
     "metadata": {},
     "output_type": "execute_result"
    }
   ],
   "source": [
    "# giving index to get particular value at index\n",
    "a = np.arange(0,20)\n",
    "print(a)\n",
    "a[8]"
   ]
  },
  {
   "cell_type": "code",
   "execution_count": 2,
   "id": "95f3949b",
   "metadata": {},
   "outputs": [
    {
     "name": "stdout",
     "output_type": "stream",
     "text": [
      "[20 21 22 23 24 25 26 27 28 29]\n"
     ]
    },
    {
     "data": {
      "text/plain": [
       "23"
      ]
     },
     "execution_count": 2,
     "metadata": {},
     "output_type": "execute_result"
    }
   ],
   "source": [
    "import numpy as np\n",
    "s = np.arange(20,30)\n",
    "print(s)\n",
    "s[3]"
   ]
  },
  {
   "cell_type": "code",
   "execution_count": 8,
   "id": "735e2362",
   "metadata": {},
   "outputs": [
    {
     "data": {
      "text/plain": [
       "array([[36., 36., 36., 36.],\n",
       "       [36., 36., 36., 36.],\n",
       "       [36., 36., 36., 36.],\n",
       "       [36., 36., 36., 36.]])"
      ]
     },
     "execution_count": 8,
     "metadata": {},
     "output_type": "execute_result"
    }
   ],
   "source": [
    "s = np.ones((4,4))\n",
    "s+=2\n",
    "s\n",
    "s1 = np.ones((4,4))\n",
    "s1+=2\n",
    "s1\n",
    "s3 = s@s1\n",
    "s3"
   ]
  },
  {
   "cell_type": "code",
   "execution_count": 5,
   "id": "9aceabf9",
   "metadata": {},
   "outputs": [
    {
     "data": {
      "text/plain": [
       "array([[5., 5., 5., 5., 5.],\n",
       "       [5., 5., 5., 5., 5.],\n",
       "       [5., 5., 5., 5., 5.],\n",
       "       [5., 5., 5., 5., 5.],\n",
       "       [5., 5., 5., 5., 5.]])"
      ]
     },
     "execution_count": 5,
     "metadata": {},
     "output_type": "execute_result"
    }
   ],
   "source": [
    "import numpy as np\n",
    "s1 = np.ones((5,5))\n",
    "s2 = np.ones((5,5))\n",
    "s3 = s1@s2\n",
    "s3"
   ]
  },
  {
   "cell_type": "code",
   "execution_count": 11,
   "id": "71bf1d43",
   "metadata": {},
   "outputs": [
    {
     "name": "stdout",
     "output_type": "stream",
     "text": [
      "[30 31 32 33 34 35 36 37 38 39]\n"
     ]
    },
    {
     "data": {
      "text/plain": [
       "array([30, 31, 32, 33, 34, 35, 36, 37, 38, 39])"
      ]
     },
     "execution_count": 11,
     "metadata": {},
     "output_type": "execute_result"
    }
   ],
   "source": [
    "# arithmetic operations addition\n",
    "a = np.arange(30,40)\n",
    "print(a)\n",
    "a"
   ]
  },
  {
   "cell_type": "code",
   "execution_count": 12,
   "id": "2fb14e1b",
   "metadata": {},
   "outputs": [
    {
     "name": "stdout",
     "output_type": "stream",
     "text": [
      "[0 1 2 3 4 5 6 7 8 9]\n"
     ]
    },
    {
     "data": {
      "text/plain": [
       "array([ 0,  2,  4,  6,  8, 10, 12, 14, 16, 18])"
      ]
     },
     "execution_count": 12,
     "metadata": {},
     "output_type": "execute_result"
    }
   ],
   "source": [
    "a = np.arange(0,10)\n",
    "print(a)\n",
    "a+a"
   ]
  },
  {
   "cell_type": "code",
   "execution_count": 14,
   "id": "6ec45f7d",
   "metadata": {},
   "outputs": [
    {
     "name": "stdout",
     "output_type": "stream",
     "text": [
      "[50 51 52 53 54 55 56 57 58 59]\n"
     ]
    },
    {
     "data": {
      "text/plain": [
       "array([0, 0, 0, 0, 0, 0, 0, 0, 0, 0])"
      ]
     },
     "execution_count": 14,
     "metadata": {},
     "output_type": "execute_result"
    }
   ],
   "source": [
    "s = np.arange(50,60)\n",
    "print(s)\n",
    "s-s"
   ]
  },
  {
   "cell_type": "code",
   "execution_count": 17,
   "id": "289ebe4c",
   "metadata": {},
   "outputs": [
    {
     "name": "stdout",
     "output_type": "stream",
     "text": [
      "[40 41 42 43 44 45 46 47 48 49 50 51 52 53 54 55 56 57 58 59 60 61 62 63\n",
      " 64 65 66 67 68 69 70 71 72 73 74 75 76 77 78 79 80 81 82 83 84 85 86 87\n",
      " 88 89]\n"
     ]
    },
    {
     "data": {
      "text/plain": [
       "array([0, 0, 0, 0, 0, 0, 0, 0, 0, 0, 0, 0, 0, 0, 0, 0, 0, 0, 0, 0, 0, 0,\n",
       "       0, 0, 0, 0, 0, 0, 0, 0, 0, 0, 0, 0, 0, 0, 0, 0, 0, 0, 0, 0, 0, 0,\n",
       "       0, 0, 0, 0, 0, 0])"
      ]
     },
     "execution_count": 17,
     "metadata": {},
     "output_type": "execute_result"
    }
   ],
   "source": [
    "# subtraction\n",
    "d = np.arange(40,90)\n",
    "print(d)\n",
    "d-d"
   ]
  },
  {
   "cell_type": "code",
   "execution_count": 19,
   "id": "b4261576",
   "metadata": {},
   "outputs": [
    {
     "name": "stdout",
     "output_type": "stream",
     "text": [
      "[10 11 12 13 14 15 16 17 18 19 20 21 22 23 24 25 26 27 28 29 30 31 32 33\n",
      " 34 35 36 37 38 39]\n"
     ]
    },
    {
     "data": {
      "text/plain": [
       "array([0, 0, 0, 0, 0, 0, 0, 0, 0, 0, 0, 0, 0, 0, 0, 0, 0, 0, 0, 0, 0, 0,\n",
       "       0, 0, 0, 0, 0, 0, 0, 0])"
      ]
     },
     "execution_count": 19,
     "metadata": {},
     "output_type": "execute_result"
    }
   ],
   "source": [
    "f = np.arange(10,40)\n",
    "print(f)\n",
    "f-f"
   ]
  },
  {
   "cell_type": "code",
   "execution_count": 21,
   "id": "ec80be10",
   "metadata": {},
   "outputs": [
    {
     "name": "stdout",
     "output_type": "stream",
     "text": [
      "[ 90  91  92  93  94  95  96  97  98  99 100 101 102 103 104 105 106 107\n",
      " 108 109 110 111 112 113 114 115 116 117 118 119 120 121 122 123 124 125\n",
      " 126 127 128 129 130 131 132 133 134 135 136 137 138 139 140 141 142 143\n",
      " 144 145 146 147 148 149]\n"
     ]
    },
    {
     "data": {
      "text/plain": [
       "array([ 8100,  8281,  8464,  8649,  8836,  9025,  9216,  9409,  9604,\n",
       "        9801, 10000, 10201, 10404, 10609, 10816, 11025, 11236, 11449,\n",
       "       11664, 11881, 12100, 12321, 12544, 12769, 12996, 13225, 13456,\n",
       "       13689, 13924, 14161, 14400, 14641, 14884, 15129, 15376, 15625,\n",
       "       15876, 16129, 16384, 16641, 16900, 17161, 17424, 17689, 17956,\n",
       "       18225, 18496, 18769, 19044, 19321, 19600, 19881, 20164, 20449,\n",
       "       20736, 21025, 21316, 21609, 21904, 22201])"
      ]
     },
     "execution_count": 21,
     "metadata": {},
     "output_type": "execute_result"
    }
   ],
   "source": [
    "# multiplication\n",
    "g = np.arange(90,150)\n",
    "print(g)\n",
    "g*g"
   ]
  },
  {
   "cell_type": "code",
   "execution_count": 23,
   "id": "7ead9c13",
   "metadata": {},
   "outputs": [
    {
     "name": "stdout",
     "output_type": "stream",
     "text": [
      "[30 31 32 33 34 35 36 37 38 39 40 41 42 43 44 45 46 47 48 49]\n"
     ]
    },
    {
     "data": {
      "text/plain": [
       "array([ 900,  961, 1024, 1089, 1156, 1225, 1296, 1369, 1444, 1521, 1600,\n",
       "       1681, 1764, 1849, 1936, 2025, 2116, 2209, 2304, 2401])"
      ]
     },
     "execution_count": 23,
     "metadata": {},
     "output_type": "execute_result"
    }
   ],
   "source": [
    "g = np.arange(30,50)\n",
    "print(g)\n",
    "g*g"
   ]
  },
  {
   "cell_type": "code",
   "execution_count": 25,
   "id": "c6db6379",
   "metadata": {},
   "outputs": [
    {
     "name": "stdout",
     "output_type": "stream",
     "text": [
      "[ 90  91  92  93  94  95  96  97  98  99 100 101 102 103 104 105 106 107\n",
      " 108 109 110 111 112 113 114 115 116 117 118 119 120 121 122 123 124 125\n",
      " 126 127 128 129 130 131 132 133 134 135 136 137 138 139 140 141 142 143\n",
      " 144 145 146 147 148 149]\n"
     ]
    },
    {
     "data": {
      "text/plain": [
       "array([1., 1., 1., 1., 1., 1., 1., 1., 1., 1., 1., 1., 1., 1., 1., 1., 1.,\n",
       "       1., 1., 1., 1., 1., 1., 1., 1., 1., 1., 1., 1., 1., 1., 1., 1., 1.,\n",
       "       1., 1., 1., 1., 1., 1., 1., 1., 1., 1., 1., 1., 1., 1., 1., 1., 1.,\n",
       "       1., 1., 1., 1., 1., 1., 1., 1., 1.])"
      ]
     },
     "execution_count": 25,
     "metadata": {},
     "output_type": "execute_result"
    }
   ],
   "source": [
    "# division\n",
    "g = np.arange(90,150)\n",
    "print(g)\n",
    "g/g"
   ]
  },
  {
   "cell_type": "code",
   "execution_count": 28,
   "id": "f8b3e87a",
   "metadata": {},
   "outputs": [
    {
     "name": "stdout",
     "output_type": "stream",
     "text": [
      "[ 0  1  2  3  4  5  6  7  8  9 10 11 12 13 14 15 16 17 18 19 20 21 22 23\n",
      " 24 25 26 27 28 29 30 31 32 33 34 35 36 37 38 39 40 41 42 43 44 45 46 47\n",
      " 48 49]\n"
     ]
    },
    {
     "name": "stderr",
     "output_type": "stream",
     "text": [
      "C:\\Users\\Kotha Maheshwari\\AppData\\Local\\Temp\\ipykernel_9952\\2112686530.py:3: RuntimeWarning: invalid value encountered in true_divide\n",
      "  k/k\n"
     ]
    },
    {
     "data": {
      "text/plain": [
       "array([nan,  1.,  1.,  1.,  1.,  1.,  1.,  1.,  1.,  1.,  1.,  1.,  1.,\n",
       "        1.,  1.,  1.,  1.,  1.,  1.,  1.,  1.,  1.,  1.,  1.,  1.,  1.,\n",
       "        1.,  1.,  1.,  1.,  1.,  1.,  1.,  1.,  1.,  1.,  1.,  1.,  1.,\n",
       "        1.,  1.,  1.,  1.,  1.,  1.,  1.,  1.,  1.,  1.,  1.])"
      ]
     },
     "execution_count": 28,
     "metadata": {},
     "output_type": "execute_result"
    }
   ],
   "source": [
    "k = np.arange(0,50)\n",
    "print(k)\n",
    "k/k"
   ]
  },
  {
   "cell_type": "code",
   "execution_count": 30,
   "id": "39b4c8b7",
   "metadata": {},
   "outputs": [
    {
     "name": "stdout",
     "output_type": "stream",
     "text": [
      "[30 31 32 33 34 35 36 37 38 39 40 41 42 43 44 45 46 47 48 49 50 51 52 53\n",
      " 54 55 56 57 58 59]\n"
     ]
    },
    {
     "data": {
      "text/plain": [
       "array([5.47722558, 5.56776436, 5.65685425, 5.74456265, 5.83095189,\n",
       "       5.91607978, 6.        , 6.08276253, 6.164414  , 6.244998  ,\n",
       "       6.32455532, 6.40312424, 6.4807407 , 6.55743852, 6.63324958,\n",
       "       6.70820393, 6.78232998, 6.8556546 , 6.92820323, 7.        ,\n",
       "       7.07106781, 7.14142843, 7.21110255, 7.28010989, 7.34846923,\n",
       "       7.41619849, 7.48331477, 7.54983444, 7.61577311, 7.68114575])"
      ]
     },
     "execution_count": 30,
     "metadata": {},
     "output_type": "execute_result"
    }
   ],
   "source": [
    "# square root\n",
    "h = np.arange(30,60)\n",
    "print(h)\n",
    "np.sqrt(h)"
   ]
  },
  {
   "cell_type": "code",
   "execution_count": 32,
   "id": "95c84f6e",
   "metadata": {},
   "outputs": [
    {
     "name": "stdout",
     "output_type": "stream",
     "text": [
      "[10 11 12 13 14 15 16 17 18 19]\n"
     ]
    },
    {
     "data": {
      "text/plain": [
       "array([3.16227766, 3.31662479, 3.46410162, 3.60555128, 3.74165739,\n",
       "       3.87298335, 4.        , 4.12310563, 4.24264069, 4.35889894])"
      ]
     },
     "execution_count": 32,
     "metadata": {},
     "output_type": "execute_result"
    }
   ],
   "source": [
    "l = np.arange(10,20)\n",
    "print(l)\n",
    "np.sqrt(l)"
   ]
  },
  {
   "cell_type": "code",
   "execution_count": 34,
   "id": "31da149f",
   "metadata": {},
   "outputs": [
    {
     "name": "stdout",
     "output_type": "stream",
     "text": [
      "[30 31 32 33 34 35 36 37 38 39]\n"
     ]
    },
    {
     "data": {
      "text/plain": [
       "array([5.47722558, 5.56776436, 5.65685425, 5.74456265, 5.83095189,\n",
       "       5.91607978, 6.        , 6.08276253, 6.164414  , 6.244998  ])"
      ]
     },
     "execution_count": 34,
     "metadata": {},
     "output_type": "execute_result"
    }
   ],
   "source": [
    "d = np.arange(30,40)\n",
    "print(d)\n",
    "np.sqrt(d)"
   ]
  },
  {
   "cell_type": "code",
   "execution_count": 35,
   "id": "3c3ce706",
   "metadata": {},
   "outputs": [
    {
     "name": "stdout",
     "output_type": "stream",
     "text": [
      "[50 51 52 53 54 55 56 57 58 59]\n"
     ]
    },
    {
     "data": {
      "text/plain": [
       "array([5.18470553e+21, 1.40934908e+22, 3.83100800e+22, 1.04137594e+23,\n",
       "       2.83075330e+23, 7.69478527e+23, 2.09165950e+24, 5.68572000e+24,\n",
       "       1.54553894e+25, 4.20121040e+25])"
      ]
     },
     "execution_count": 35,
     "metadata": {},
     "output_type": "execute_result"
    }
   ],
   "source": [
    "# exponential\n",
    "f = np.arange(50,60)\n",
    "print(f)\n",
    "np.exp(f)"
   ]
  },
  {
   "cell_type": "code",
   "execution_count": 36,
   "id": "ffd6e057",
   "metadata": {},
   "outputs": [
    {
     "name": "stdout",
     "output_type": "stream",
     "text": [
      "[30 31 32 33 34 35 36 37 38 39]\n"
     ]
    },
    {
     "data": {
      "text/plain": [
       "array([1.06864746e+13, 2.90488497e+13, 7.89629602e+13, 2.14643580e+14,\n",
       "       5.83461743e+14, 1.58601345e+15, 4.31123155e+15, 1.17191424e+16,\n",
       "       3.18559318e+16, 8.65934004e+16])"
      ]
     },
     "execution_count": 36,
     "metadata": {},
     "output_type": "execute_result"
    }
   ],
   "source": [
    "t = np.arange(30,40)\n",
    "print(t)\n",
    "np.exp(t)"
   ]
  },
  {
   "cell_type": "code",
   "execution_count": 37,
   "id": "8a62561c",
   "metadata": {},
   "outputs": [
    {
     "name": "stdout",
     "output_type": "stream",
     "text": [
      "[70 71 72 73 74 75 76 77 78 79 80 81 82 83 84 85 86 87 88 89 90 91 92 93\n",
      " 94 95 96 97 98 99]\n"
     ]
    },
    {
     "data": {
      "text/plain": [
       "array([2.51543867e+30, 6.83767123e+30, 1.85867175e+31, 5.05239363e+31,\n",
       "       1.37338298e+32, 3.73324200e+32, 1.01480039e+33, 2.75851345e+33,\n",
       "       7.49841700e+33, 2.03828107e+34, 5.54062238e+34, 1.50609731e+35,\n",
       "       4.09399696e+35, 1.11286375e+36, 3.02507732e+36, 8.22301271e+36,\n",
       "       2.23524660e+37, 6.07603023e+37, 1.65163625e+38, 4.48961282e+38,\n",
       "       1.22040329e+39, 3.31740010e+39, 9.01762841e+39, 2.45124554e+40,\n",
       "       6.66317622e+40, 1.81123908e+41, 4.92345829e+41, 1.33833472e+42,\n",
       "       3.63797095e+42, 9.88903032e+42])"
      ]
     },
     "execution_count": 37,
     "metadata": {},
     "output_type": "execute_result"
    }
   ],
   "source": [
    "e = np.arange(70,100)\n",
    "print(e)\n",
    "np.exp(e)"
   ]
  },
  {
   "cell_type": "code",
   "execution_count": 41,
   "id": "6dc7325a",
   "metadata": {},
   "outputs": [
    {
     "name": "stdout",
     "output_type": "stream",
     "text": [
      "[40 41 42 43 44 45 46 47 48 49 50 51 52 53 54 55 56 57 58 59]\n"
     ]
    },
    {
     "data": {
      "text/plain": [
       "40"
      ]
     },
     "execution_count": 41,
     "metadata": {},
     "output_type": "execute_result"
    }
   ],
   "source": [
    "# minimum \n",
    "f = np.arange(40,60)\n",
    "print(f)\n",
    "np.min(f)"
   ]
  },
  {
   "cell_type": "code",
   "execution_count": 43,
   "id": "1cda913c",
   "metadata": {},
   "outputs": [
    {
     "name": "stdout",
     "output_type": "stream",
     "text": [
      "[50 51 52 53 54 55 56 57 58 59 60 61 62 63 64 65 66 67 68 69 70 71 72 73\n",
      " 74 75 76 77 78 79]\n"
     ]
    },
    {
     "data": {
      "text/plain": [
       "50"
      ]
     },
     "execution_count": 43,
     "metadata": {},
     "output_type": "execute_result"
    }
   ],
   "source": [
    "b = np.arange(50,80)\n",
    "print(b)\n",
    "np.min(b)"
   ]
  },
  {
   "cell_type": "code",
   "execution_count": 44,
   "id": "8b59839d",
   "metadata": {},
   "outputs": [
    {
     "name": "stdout",
     "output_type": "stream",
     "text": [
      "[40 41 42 43 44 45 46 47 48 49 50 51 52 53 54 55 56 57 58 59 60 61 62 63\n",
      " 64 65 66 67 68 69 70 71 72 73 74 75 76 77 78 79 80 81 82 83 84 85 86 87\n",
      " 88 89]\n"
     ]
    },
    {
     "data": {
      "text/plain": [
       "89"
      ]
     },
     "execution_count": 44,
     "metadata": {},
     "output_type": "execute_result"
    }
   ],
   "source": [
    "# maximum\n",
    "g = np.arange(40,90)\n",
    "print(g)\n",
    "np.max(g)"
   ]
  },
  {
   "cell_type": "code",
   "execution_count": 45,
   "id": "27b037dc",
   "metadata": {},
   "outputs": [
    {
     "name": "stdout",
     "output_type": "stream",
     "text": [
      "[50 51 52 53 54 55 56 57 58 59 60 61 62 63 64 65 66 67 68 69 70 71 72 73\n",
      " 74 75 76 77 78 79]\n"
     ]
    },
    {
     "data": {
      "text/plain": [
       "79"
      ]
     },
     "execution_count": 45,
     "metadata": {},
     "output_type": "execute_result"
    }
   ],
   "source": [
    "s = np.arange(50,80)\n",
    "print(s)\n",
    "np.max(s)"
   ]
  },
  {
   "cell_type": "code",
   "execution_count": 46,
   "id": "29b7126a",
   "metadata": {},
   "outputs": [
    {
     "name": "stdout",
     "output_type": "stream",
     "text": [
      "[20 21 22 23 24 25 26 27 28 29 30 31 32 33 34 35 36 37 38 39 40 41 42 43\n",
      " 44 45 46 47 48 49]\n"
     ]
    },
    {
     "data": {
      "text/plain": [
       "array([2.99573227, 3.04452244, 3.09104245, 3.13549422, 3.17805383,\n",
       "       3.21887582, 3.25809654, 3.29583687, 3.33220451, 3.36729583,\n",
       "       3.40119738, 3.4339872 , 3.4657359 , 3.49650756, 3.52636052,\n",
       "       3.55534806, 3.58351894, 3.61091791, 3.63758616, 3.66356165,\n",
       "       3.68887945, 3.71357207, 3.73766962, 3.76120012, 3.78418963,\n",
       "       3.80666249, 3.8286414 , 3.8501476 , 3.87120101, 3.8918203 ])"
      ]
     },
     "execution_count": 46,
     "metadata": {},
     "output_type": "execute_result"
    }
   ],
   "source": [
    "# log value\n",
    "t = np.arange(20,50)\n",
    "print(t)\n",
    "np.log(t)"
   ]
  },
  {
   "cell_type": "code",
   "execution_count": 48,
   "id": "7bc8b50f",
   "metadata": {},
   "outputs": [
    {
     "name": "stdout",
     "output_type": "stream",
     "text": [
      "[50 51 52 53 54 55 56 57 58 59 60 61 62 63 64 65 66 67 68 69 70 71 72 73\n",
      " 74 75 76 77 78 79]\n"
     ]
    },
    {
     "data": {
      "text/plain": [
       "array([3.91202301, 3.93182563, 3.95124372, 3.97029191, 3.98898405,\n",
       "       4.00733319, 4.02535169, 4.04305127, 4.06044301, 4.07753744,\n",
       "       4.09434456, 4.11087386, 4.12713439, 4.14313473, 4.15888308,\n",
       "       4.17438727, 4.18965474, 4.20469262, 4.21950771, 4.2341065 ,\n",
       "       4.24849524, 4.26267988, 4.27666612, 4.29045944, 4.30406509,\n",
       "       4.31748811, 4.33073334, 4.34380542, 4.35670883, 4.36944785])"
      ]
     },
     "execution_count": 48,
     "metadata": {},
     "output_type": "execute_result"
    }
   ],
   "source": [
    "f = np.arange(50,80)\n",
    "print(f)\n",
    "np.log(f)"
   ]
  },
  {
   "cell_type": "code",
   "execution_count": 57,
   "id": "9d624d23",
   "metadata": {},
   "outputs": [
    {
     "name": "stdout",
     "output_type": "stream",
     "text": [
      "[[1 2 3]\n",
      " [4 5 6]\n",
      " [7 8 9]]\n"
     ]
    },
    {
     "data": {
      "text/plain": [
       "array([4, 5, 6])"
      ]
     },
     "execution_count": 57,
     "metadata": {},
     "output_type": "execute_result"
    }
   ],
   "source": [
    "# indexing for matrix\n",
    "z = np.array([[1,2,3],[4,5,6],[7,8,9]])\n",
    "print(z)\n",
    "z[1]"
   ]
  },
  {
   "cell_type": "code",
   "execution_count": 59,
   "id": "9d7f736e",
   "metadata": {},
   "outputs": [
    {
     "name": "stdout",
     "output_type": "stream",
     "text": [
      "[[1 2 3]\n",
      " [4 5 6]\n",
      " [7 8 9]]\n"
     ]
    },
    {
     "data": {
      "text/plain": [
       "array([1, 2, 3])"
      ]
     },
     "execution_count": 59,
     "metadata": {},
     "output_type": "execute_result"
    }
   ],
   "source": [
    "z = np.array([[1,2,3],[4,5,6],[7,8,9]])\n",
    "print(z)\n",
    "z[0]"
   ]
  },
  {
   "cell_type": "code",
   "execution_count": 61,
   "id": "a4f15d2a",
   "metadata": {},
   "outputs": [
    {
     "name": "stdout",
     "output_type": "stream",
     "text": [
      "[[1 2 3]\n",
      " [4 5 6]\n",
      " [7 8 9]]\n"
     ]
    },
    {
     "data": {
      "text/plain": [
       "array([7, 8, 9])"
      ]
     },
     "execution_count": 61,
     "metadata": {},
     "output_type": "execute_result"
    }
   ],
   "source": [
    "# gives the value of 2nd row that is 7,8,9 where it is located at 2nd index\n",
    "z = np.array([[1,2,3],[4,5,6],[7,8,9]])\n",
    "print(z)\n",
    "z[2]"
   ]
  },
  {
   "cell_type": "code",
   "execution_count": 62,
   "id": "27f8a46c",
   "metadata": {},
   "outputs": [
    {
     "name": "stdout",
     "output_type": "stream",
     "text": [
      "[[1 2 3]\n",
      " [4 5 6]\n",
      " [7 8 9]]\n"
     ]
    },
    {
     "data": {
      "text/plain": [
       "2"
      ]
     },
     "execution_count": 62,
     "metadata": {},
     "output_type": "execute_result"
    }
   ],
   "source": [
    "# z[0][1] gives the value of 0 row and 1st value\n",
    "z = np.array([[1,2,3],[4,5,6],[7,8,9]])\n",
    "print(z)\n",
    "z[0][1]"
   ]
  },
  {
   "cell_type": "code",
   "execution_count": 63,
   "id": "df0697ea",
   "metadata": {},
   "outputs": [
    {
     "name": "stdout",
     "output_type": "stream",
     "text": [
      "[[1 2 3]\n",
      " [4 5 6]\n",
      " [7 8 9]]\n"
     ]
    },
    {
     "data": {
      "text/plain": [
       "6"
      ]
     },
     "execution_count": 63,
     "metadata": {},
     "output_type": "execute_result"
    }
   ],
   "source": [
    "# gives the value of 1st  row that is 4,5,6 where it is located at 1st index and inner index is 2\n",
    "z = np.array([[1,2,3],[4,5,6],[7,8,9]])\n",
    "print(z)\n",
    "z[1][2]"
   ]
  },
  {
   "cell_type": "code",
   "execution_count": 65,
   "id": "d8991fd3",
   "metadata": {},
   "outputs": [
    {
     "name": "stdout",
     "output_type": "stream",
     "text": [
      "[[1 2 3]\n",
      " [4 5 6]\n",
      " [7 8 9]\n",
      " [4 5 6]\n",
      " [1 3 8]]\n"
     ]
    },
    {
     "data": {
      "text/plain": [
       "array([1, 3, 8])"
      ]
     },
     "execution_count": 65,
     "metadata": {},
     "output_type": "execute_result"
    }
   ],
   "source": [
    "z = np.array([[1,2,3],[4,5,6],[7,8,9],[4,5,6],[1,3,8]])\n",
    "print(z)\n",
    "z[4]"
   ]
  },
  {
   "cell_type": "code",
   "execution_count": 66,
   "id": "3e35eef3",
   "metadata": {},
   "outputs": [
    {
     "name": "stdout",
     "output_type": "stream",
     "text": [
      "[[1 2 3]\n",
      " [4 5 6]\n",
      " [7 8 9]\n",
      " [4 5 6]\n",
      " [1 3 8]]\n"
     ]
    },
    {
     "data": {
      "text/plain": [
       "3"
      ]
     },
     "execution_count": 66,
     "metadata": {},
     "output_type": "execute_result"
    }
   ],
   "source": [
    "z = np.array([[1,2,3],[4,5,6],[7,8,9],[4,5,6],[1,3,8]])\n",
    "print(z)\n",
    "z[0][2]"
   ]
  },
  {
   "cell_type": "code",
   "execution_count": 67,
   "id": "41707a70",
   "metadata": {},
   "outputs": [
    {
     "name": "stdout",
     "output_type": "stream",
     "text": [
      "[[1 2 3]\n",
      " [4 5 6]\n",
      " [7 8 9]\n",
      " [4 5 6]\n",
      " [1 3 8]]\n"
     ]
    },
    {
     "data": {
      "text/plain": [
       "4"
      ]
     },
     "execution_count": 67,
     "metadata": {},
     "output_type": "execute_result"
    }
   ],
   "source": [
    "z = np.array([[1,2,3],[4,5,6],[7,8,9],[4,5,6],[1,3,8]])\n",
    "print(z)\n",
    "z[1][0]"
   ]
  },
  {
   "cell_type": "code",
   "execution_count": 73,
   "id": "2b0be02f",
   "metadata": {},
   "outputs": [
    {
     "name": "stdout",
     "output_type": "stream",
     "text": [
      "[[6, 7, 8], [5, 4, 3], [4, 8, 9], [2, 3, 4]]\n"
     ]
    },
    {
     "data": {
      "text/plain": [
       "[[6, 7, 8]]"
      ]
     },
     "execution_count": 73,
     "metadata": {},
     "output_type": "execute_result"
    }
   ],
   "source": [
    "# slicing\n",
    "s = ([[6,7,8],[5,4,3],[4,8,9],[2,3,4]])\n",
    "print(s)\n",
    "s[0:1]"
   ]
  },
  {
   "cell_type": "code",
   "execution_count": 78,
   "id": "6096d6fe",
   "metadata": {},
   "outputs": [
    {
     "name": "stdout",
     "output_type": "stream",
     "text": [
      "[[6, 7, 8], [5, 4, 3], [4, 8, 9], [2, 3, 4]]\n"
     ]
    },
    {
     "data": {
      "text/plain": [
       "[[4, 8, 9]]"
      ]
     },
     "execution_count": 78,
     "metadata": {},
     "output_type": "execute_result"
    }
   ],
   "source": [
    "# slcing the index here [2:3] it takes only 2nd index values\n",
    "s = ([[6,7,8],[5,4,3],[4,8,9],[2,3,4]])\n",
    "print(s)\n",
    "s[2:3]"
   ]
  },
  {
   "cell_type": "code",
   "execution_count": 80,
   "id": "228d3880",
   "metadata": {},
   "outputs": [
    {
     "name": "stdout",
     "output_type": "stream",
     "text": [
      "[[6, 7, 8], [5, 4, 3], [4, 8, 9], [2, 3, 4]]\n"
     ]
    },
    {
     "data": {
      "text/plain": [
       "[[4, 8, 9], [2, 3, 4]]"
      ]
     },
     "execution_count": 80,
     "metadata": {},
     "output_type": "execute_result"
    }
   ],
   "source": [
    "# slicing the index [2:] it takes from 2nd index value to the last\n",
    "s = ([[6,7,8],[5,4,3],[4,8,9],[2,3,4]])\n",
    "print(s)\n",
    "s[2:]"
   ]
  },
  {
   "cell_type": "code",
   "execution_count": 83,
   "id": "939b8ecb",
   "metadata": {},
   "outputs": [
    {
     "name": "stdout",
     "output_type": "stream",
     "text": [
      "[[6, 7, 8], [5, 4, 3], [4, 8, 9], [2, 3, 4]]\n"
     ]
    },
    {
     "data": {
      "text/plain": [
       "[[6, 7, 8], [5, 4, 3], [4, 8, 9], [2, 3, 4]]"
      ]
     },
     "execution_count": 83,
     "metadata": {},
     "output_type": "execute_result"
    }
   ],
   "source": [
    "# slicing the index it takes[0:] from index 0 to last\n",
    "s = ([[6,7,8],[5,4,3],[4,8,9],[2,3,4]])\n",
    "print(s)\n",
    "s[0:]"
   ]
  },
  {
   "cell_type": "code",
   "execution_count": 89,
   "id": "310a2eda",
   "metadata": {},
   "outputs": [
    {
     "data": {
      "text/plain": [
       "array([[0., 0., 0., 0., 0., 0., 0., 0., 0., 0.],\n",
       "       [1., 1., 1., 1., 1., 1., 1., 1., 1., 1.],\n",
       "       [2., 2., 2., 2., 2., 2., 2., 2., 2., 2.],\n",
       "       [3., 3., 3., 3., 3., 3., 3., 3., 3., 3.],\n",
       "       [4., 4., 4., 4., 4., 4., 4., 4., 4., 4.],\n",
       "       [5., 5., 5., 5., 5., 5., 5., 5., 5., 5.],\n",
       "       [6., 6., 6., 6., 6., 6., 6., 6., 6., 6.],\n",
       "       [7., 7., 7., 7., 7., 7., 7., 7., 7., 7.],\n",
       "       [8., 8., 8., 8., 8., 8., 8., 8., 8., 8.],\n",
       "       [9., 9., 9., 9., 9., 9., 9., 9., 9., 9.]])"
      ]
     },
     "execution_count": 89,
     "metadata": {},
     "output_type": "execute_result"
    }
   ],
   "source": [
    "# looping\n",
    "l = np.zeros((10,10))\n",
    "s = l.shape[1]\n",
    "for i in range(s):\n",
    "    l[i]=i\n",
    "l"
   ]
  },
  {
   "cell_type": "code",
   "execution_count": 91,
   "id": "caf6cf34",
   "metadata": {},
   "outputs": [
    {
     "data": {
      "text/plain": [
       "array([[0., 0., 0., 0.],\n",
       "       [1., 1., 1., 1.],\n",
       "       [2., 2., 2., 2.],\n",
       "       [3., 3., 3., 3.]])"
      ]
     },
     "execution_count": 91,
     "metadata": {},
     "output_type": "execute_result"
    }
   ],
   "source": [
    "d = np.zeros((4,4))\n",
    "e = d.shape[1]\n",
    "for i in range(e):\n",
    "    d[i]=i\n",
    "d"
   ]
  },
  {
   "cell_type": "code",
   "execution_count": 2,
   "id": "d993e6f9",
   "metadata": {},
   "outputs": [
    {
     "data": {
      "text/plain": [
       "array([[0., 0., 0., 0., 0., 0.],\n",
       "       [1., 1., 1., 1., 1., 1.],\n",
       "       [2., 2., 2., 2., 2., 2.],\n",
       "       [3., 3., 3., 3., 3., 3.],\n",
       "       [4., 4., 4., 4., 4., 4.],\n",
       "       [5., 5., 5., 5., 5., 5.]])"
      ]
     },
     "execution_count": 2,
     "metadata": {},
     "output_type": "execute_result"
    }
   ],
   "source": [
    "import numpy as np\n",
    "c = np.zeros((6,6))\n",
    "d = c.shape[1]\n",
    "for i in range(d):\n",
    "    c[i]=i\n",
    "c"
   ]
  },
  {
   "cell_type": "code",
   "execution_count": 4,
   "id": "8df20d98",
   "metadata": {},
   "outputs": [
    {
     "name": "stdout",
     "output_type": "stream",
     "text": [
      "[[ 0  1  2  3]\n",
      " [ 4  5  6  7]\n",
      " [ 8  9 10 11]]\n",
      "0\n",
      "1\n",
      "2\n",
      "3\n",
      "4\n",
      "5\n",
      "6\n",
      "7\n",
      "8\n",
      "9\n",
      "10\n",
      "11\n"
     ]
    }
   ],
   "source": [
    "s = np.arange(12).reshape(3,4)\n",
    "print(s)\n",
    "for row in s:\n",
    "    for column in row:\n",
    "        print(column)"
   ]
  },
  {
   "cell_type": "code",
   "execution_count": 6,
   "id": "d25e69e7",
   "metadata": {},
   "outputs": [
    {
     "name": "stdout",
     "output_type": "stream",
     "text": [
      "[[ 0  1  2  3  4]\n",
      " [ 5  6  7  8  9]\n",
      " [10 11 12 13 14]\n",
      " [15 16 17 18 19]\n",
      " [20 21 22 23 24]]\n",
      "0\n",
      "1\n",
      "2\n",
      "3\n",
      "4\n",
      "5\n",
      "6\n",
      "7\n",
      "8\n",
      "9\n",
      "10\n",
      "11\n",
      "12\n",
      "13\n",
      "14\n",
      "15\n",
      "16\n",
      "17\n",
      "18\n",
      "19\n",
      "20\n",
      "21\n",
      "22\n",
      "23\n",
      "24\n"
     ]
    }
   ],
   "source": [
    "d = np.arange(25).reshape(5,5)\n",
    "print(d)\n",
    "for row in d:\n",
    "    for column in row:\n",
    "        print(column)"
   ]
  },
  {
   "cell_type": "code",
   "execution_count": 9,
   "id": "6c9d0b64",
   "metadata": {},
   "outputs": [
    {
     "name": "stdout",
     "output_type": "stream",
     "text": [
      "[[ 0  1  2  3]\n",
      " [ 4  5  6  7]\n",
      " [ 8  9 10 11]\n",
      " [12 13 14 15]]\n",
      "0\n",
      "1\n",
      "2\n",
      "3\n",
      "4\n",
      "5\n",
      "6\n",
      "7\n",
      "8\n",
      "9\n",
      "10\n",
      "11\n",
      "12\n",
      "13\n",
      "14\n",
      "15\n"
     ]
    }
   ],
   "source": [
    "e = np.arange(16).reshape(4,4)\n",
    "print(e)\n",
    "for row in e:\n",
    "    for column in row:\n",
    "        print(column)"
   ]
  },
  {
   "cell_type": "code",
   "execution_count": 12,
   "id": "ab63459e",
   "metadata": {},
   "outputs": [
    {
     "data": {
      "text/plain": [
       "array([[4, 5, 9, 2],\n",
       "       [8, 9, 4, 5]])"
      ]
     },
     "execution_count": 12,
     "metadata": {},
     "output_type": "execute_result"
    }
   ],
   "source": [
    "# joining concatenate() will concatenate tha is kind of joining\n",
    "s1 = np.array([[4,5],[8,9]])\n",
    "s2 = np.array([[9,2],[4,5]])\n",
    "s3 = np.concatenate((s1,s2),axis=1)\n",
    "s3"
   ]
  },
  {
   "cell_type": "code",
   "execution_count": 16,
   "id": "f54bddad",
   "metadata": {},
   "outputs": [
    {
     "data": {
      "text/plain": [
       "array([[3, 4],\n",
       "       [6, 7],\n",
       "       [8, 9],\n",
       "       [2, 2]])"
      ]
     },
     "execution_count": 16,
     "metadata": {},
     "output_type": "execute_result"
    }
   ],
   "source": [
    "e = np.array([[3,4],[6,7]])\n",
    "h = np.array([[8,9],[2,2]])\n",
    "d = np.concatenate((e,h),axis=0)\n",
    "d"
   ]
  },
  {
   "cell_type": "code",
   "execution_count": 20,
   "id": "2249557b",
   "metadata": {},
   "outputs": [
    {
     "data": {
      "text/plain": [
       "array([[3, 4, 5, 9, 4, 5],\n",
       "       [1, 6, 9, 2, 6, 7],\n",
       "       [4, 9, 1, 1, 4, 5]])"
      ]
     },
     "execution_count": 20,
     "metadata": {},
     "output_type": "execute_result"
    }
   ],
   "source": [
    "r1 = np.array([[3,4,5],[1,6,9],[4,9,1]])\n",
    "r2 = np.array([[9,4,5],[2,6,7],[1,4,5]])\n",
    "r3 = np.concatenate((r1,r2),axis=1)\n",
    "r3"
   ]
  },
  {
   "cell_type": "code",
   "execution_count": 22,
   "id": "686728a7",
   "metadata": {},
   "outputs": [
    {
     "data": {
      "text/plain": [
       "array([[1, 3, 6, 1, 6, 7, 2, 3],\n",
       "       [4, 5, 6, 5, 1, 6, 9, 3],\n",
       "       [8, 9, 1, 9, 6, 1, 7, 3],\n",
       "       [4, 5, 6, 9, 2, 9, 5, 4]])"
      ]
     },
     "execution_count": 22,
     "metadata": {},
     "output_type": "execute_result"
    }
   ],
   "source": [
    "d1 = np.array([[1,3,6,1],[4,5,6,5],[8,9,1,9],[4,5,6,9]])\n",
    "d2 = np.array([[6,7,2,3],[1,6,9,3],[6,1,7,3],[2,9,5,4]])\n",
    "d3 = np.concatenate((d1,d2),axis=1)\n",
    "d3"
   ]
  },
  {
   "cell_type": "code",
   "execution_count": 24,
   "id": "68893346",
   "metadata": {},
   "outputs": [
    {
     "data": {
      "text/plain": [
       "array([[1, 3, 6, 1, 5, 6, 7, 2, 3, 2],\n",
       "       [4, 5, 6, 5, 3, 1, 6, 9, 3, 4],\n",
       "       [8, 9, 1, 9, 2, 6, 1, 7, 3, 2],\n",
       "       [4, 5, 6, 9, 4, 2, 9, 5, 4, 1]])"
      ]
     },
     "execution_count": 24,
     "metadata": {},
     "output_type": "execute_result"
    }
   ],
   "source": [
    "s1 = np.array([[1,3,6,1,5],[4,5,6,5,3],[8,9,1,9,2],[4,5,6,9,4]])\n",
    "s2 = np.array([[6,7,2,3,2],[1,6,9,3,4],[6,1,7,3,2],[2,9,5,4,1]])\n",
    "s3 = np.concatenate((s1,s2),axis=1)\n",
    "s3"
   ]
  },
  {
   "cell_type": "code",
   "execution_count": 28,
   "id": "ce4f5718",
   "metadata": {},
   "outputs": [
    {
     "data": {
      "text/plain": [
       "array([[2, 3, 7, 8, 4, 6],\n",
       "       [4, 5, 1, 2, 8, 9]])"
      ]
     },
     "execution_count": 28,
     "metadata": {},
     "output_type": "execute_result"
    }
   ],
   "source": [
    "r1 = np.array([[2,3],[4,5]])\n",
    "r2 = np.array([[7,8],[1,2]])\n",
    "r3 = np.array([[4,6],[8,9]])\n",
    "r4 = np.concatenate((r1,r2,r3),axis=1)\n",
    "r4"
   ]
  },
  {
   "cell_type": "code",
   "execution_count": 30,
   "id": "b391779e",
   "metadata": {},
   "outputs": [
    {
     "data": {
      "text/plain": [
       "array([[1, 3, 6, 1, 6, 7, 2, 3, 8, 9, 3, 6],\n",
       "       [4, 5, 6, 5, 1, 6, 9, 3, 2, 4, 7, 4],\n",
       "       [8, 9, 1, 9, 6, 1, 7, 3, 8, 4, 5, 3],\n",
       "       [4, 5, 6, 9, 2, 9, 5, 4, 3, 8, 9, 2]])"
      ]
     },
     "execution_count": 30,
     "metadata": {},
     "output_type": "execute_result"
    }
   ],
   "source": [
    "d1 = np.array([[1,3,6,1],[4,5,6,5],[8,9,1,9],[4,5,6,9]])\n",
    "d2 = np.array([[6,7,2,3],[1,6,9,3],[6,1,7,3],[2,9,5,4]])\n",
    "d3 = np.array([[8,9,3,6],[2,4,7,4],[8,4,5,3],[3,8,9,2]])\n",
    "d4 = np.concatenate((d1,d2,d3),axis=1)\n",
    "d4"
   ]
  },
  {
   "cell_type": "code",
   "execution_count": 36,
   "id": "128949c3",
   "metadata": {},
   "outputs": [
    {
     "data": {
      "text/plain": [
       "array([[5, 7],\n",
       "       [5, 8]])"
      ]
     },
     "execution_count": 36,
     "metadata": {},
     "output_type": "execute_result"
    }
   ],
   "source": [
    "#spliting split() will split the array\n",
    "s = np.array([[5,7],[5,8]])\n",
    "np.split(s,1)\n",
    "s\n"
   ]
  },
  {
   "cell_type": "code",
   "execution_count": 42,
   "id": "70751984",
   "metadata": {},
   "outputs": [
    {
     "data": {
      "text/plain": [
       "array([[4, 5, 7],\n",
       "       [9, 2, 4],\n",
       "       [3, 7, 1]])"
      ]
     },
     "execution_count": 42,
     "metadata": {},
     "output_type": "execute_result"
    }
   ],
   "source": [
    "d = np.array([[4,5,7],[9,2,4],[3,7,1]])\n",
    "np.split(d,3)\n",
    "d"
   ]
  },
  {
   "cell_type": "code",
   "execution_count": 57,
   "id": "83f48c9d",
   "metadata": {},
   "outputs": [
    {
     "data": {
      "text/plain": [
       "array([[3, 5, 7, 2],\n",
       "       [5, 8, 9, 4],\n",
       "       [3, 8, 4, 1],\n",
       "       [8, 1, 2, 3]])"
      ]
     },
     "execution_count": 57,
     "metadata": {},
     "output_type": "execute_result"
    }
   ],
   "source": [
    "e = np.array([[3,5,7,2],[5,8,9,4],[3,8,4,1],[8,1,2,3]])\n",
    "np.split(e,2)\n",
    "e"
   ]
  },
  {
   "cell_type": "code",
   "execution_count": 59,
   "id": "bde67223",
   "metadata": {},
   "outputs": [
    {
     "data": {
      "text/plain": [
       "array([[3, 5, 7, 2],\n",
       "       [5, 8, 9, 4],\n",
       "       [3, 8, 4, 1],\n",
       "       [8, 1, 2, 3]])"
      ]
     },
     "execution_count": 59,
     "metadata": {},
     "output_type": "execute_result"
    }
   ],
   "source": [
    "e = np.array([[3,5,7,2],[5,8,9,4],[3,8,4,1],[8,1,2,3]])\n",
    "np.split(e,4)\n",
    "e"
   ]
  },
  {
   "cell_type": "code",
   "execution_count": 63,
   "id": "f4281743",
   "metadata": {},
   "outputs": [
    {
     "data": {
      "text/plain": [
       "array([[3, 7, 8, 9, 3, 9, 4],\n",
       "       [7, 9, 3, 2, 8, 9, 5],\n",
       "       [2, 9, 4, 5, 2, 6, 3],\n",
       "       [6, 1, 1, 3, 4, 6, 4],\n",
       "       [4, 9, 2, 5, 6, 1, 3],\n",
       "       [2, 1, 4, 5, 6, 2, 1],\n",
       "       [2, 4, 6, 1, 4, 2, 4]])"
      ]
     },
     "execution_count": 63,
     "metadata": {},
     "output_type": "execute_result"
    }
   ],
   "source": [
    "r = np.array([[3,7,8,9,3,9,4],[7,9,3,2,8,9,5],[2,9,4,5,2,6,3],[6,1,1,3,4,6,4],[4,9,2,5,6,1,3],[2,1,4,5,6,2,1],[2,4,6,1,4,2,4]])\n",
    "np.split(r,1)\n",
    "r"
   ]
  },
  {
   "cell_type": "code",
   "execution_count": 65,
   "id": "063f03a9",
   "metadata": {},
   "outputs": [
    {
     "data": {
      "text/plain": [
       "array([[3, 7, 8, 9, 3, 9, 4],\n",
       "       [7, 9, 3, 2, 8, 9, 5],\n",
       "       [2, 9, 4, 5, 2, 6, 3],\n",
       "       [6, 1, 1, 3, 4, 6, 4],\n",
       "       [4, 9, 2, 5, 6, 1, 3],\n",
       "       [2, 1, 4, 5, 6, 2, 1],\n",
       "       [2, 4, 6, 1, 4, 2, 4]])"
      ]
     },
     "execution_count": 65,
     "metadata": {},
     "output_type": "execute_result"
    }
   ],
   "source": [
    "r = np.array([[3,7,8,9,3,9,4],[7,9,3,2,8,9,5],[2,9,4,5,2,6,3],[6,1,1,3,4,6,4],[4,9,2,5,6,1,3],[2,1,4,5,6,2,1],[2,4,6,1,4,2,4]])\n",
    "np.split(r,7)\n",
    "r"
   ]
  },
  {
   "cell_type": "code",
   "execution_count": 69,
   "id": "4445759e",
   "metadata": {},
   "outputs": [
    {
     "data": {
      "text/plain": [
       "array([[3, 7, 8, 9, 3, 9, 4],\n",
       "       [7, 9, 3, 2, 8, 9, 5],\n",
       "       [2, 9, 4, 5, 2, 6, 3],\n",
       "       [6, 1, 1, 3, 4, 6, 4],\n",
       "       [4, 9, 2, 5, 6, 1, 3],\n",
       "       [2, 1, 4, 5, 6, 2, 1],\n",
       "       [2, 4, 6, 1, 4, 2, 4]])"
      ]
     },
     "execution_count": 69,
     "metadata": {},
     "output_type": "execute_result"
    }
   ],
   "source": [
    "r = np.array([[3,7,8,9,3,9,4],[7,9,3,2,8,9,5],[2,9,4,5,2,6,3],[6,1,1,3,4,6,4],[4,9,2,5,6,1,3],[2,1,4,5,6,2,1],[2,4,6,1,4,2,4]])\n",
    "np.split(r,7)\n",
    "r"
   ]
  },
  {
   "cell_type": "code",
   "execution_count": 70,
   "id": "7dae7dc7",
   "metadata": {},
   "outputs": [
    {
     "data": {
      "text/plain": [
       "array([[2, 7, 9],\n",
       "       [3, 5, 9],\n",
       "       [2, 3, 5]])"
      ]
     },
     "execution_count": 70,
     "metadata": {},
     "output_type": "execute_result"
    }
   ],
   "source": [
    "#sorting sort() will sort the values from small to big\n",
    "d = np.array([[2,9,7],[3,5,9],[2,3,5]])\n",
    "np.sort(d)"
   ]
  },
  {
   "cell_type": "code",
   "execution_count": 71,
   "id": "2da9a6c3",
   "metadata": {},
   "outputs": [
    {
     "data": {
      "text/plain": [
       "array([[3, 4, 5, 6],\n",
       "       [1, 2, 4, 7],\n",
       "       [1, 2, 4, 9],\n",
       "       [4, 6, 7, 8]])"
      ]
     },
     "execution_count": 71,
     "metadata": {},
     "output_type": "execute_result"
    }
   ],
   "source": [
    "g = np.array([[3,4,5,6],[7,2,4,1],[2,4,9,1],[4,8,7,6]])\n",
    "np.sort(g)"
   ]
  },
  {
   "cell_type": "code",
   "execution_count": 73,
   "id": "46944b70",
   "metadata": {},
   "outputs": [
    {
     "data": {
      "text/plain": [
       "array([[ 24,  66,  88],\n",
       "       [ 50,  77,  87],\n",
       "       [ 56,  89, 100]])"
      ]
     },
     "execution_count": 73,
     "metadata": {},
     "output_type": "execute_result"
    }
   ],
   "source": [
    "d = np.array([[66,88,24],[50,87,77],[89,56,100]])\n",
    "np.sort(d)"
   ]
  },
  {
   "cell_type": "code",
   "execution_count": 74,
   "id": "3ef34bd7",
   "metadata": {},
   "outputs": [
    {
     "data": {
      "text/plain": [
       "array([[  3,  56,  90],\n",
       "       [ 65,  78, 900],\n",
       "       [ 56, 300, 788]])"
      ]
     },
     "execution_count": 74,
     "metadata": {},
     "output_type": "execute_result"
    }
   ],
   "source": [
    "f = np.array([[3,90,56],[78,65,900],[300,56,788]])\n",
    "np.sort(f)"
   ]
  },
  {
   "cell_type": "code",
   "execution_count": 75,
   "id": "2bd349d3",
   "metadata": {},
   "outputs": [
    {
     "data": {
      "text/plain": [
       "array([[27, 34, 43, 56, 78],\n",
       "       [23, 31, 32, 45, 89],\n",
       "       [21, 34, 43, 56, 67],\n",
       "       [21, 31, 45, 56, 78],\n",
       "       [21, 34, 45, 67, 90]])"
      ]
     },
     "execution_count": 75,
     "metadata": {},
     "output_type": "execute_result"
    }
   ],
   "source": [
    "f = np.array([[56,78,34,43,27],[45,89,23,31,32],[67,34,56,43,21],[56,78,45,31,21],[67,90,45,34,21]])\n",
    "np.sort(f)"
   ]
  },
  {
   "cell_type": "code",
   "execution_count": 76,
   "id": "d0af6e91",
   "metadata": {},
   "outputs": [
    {
     "data": {
      "text/plain": [
       "array([[21, 34],\n",
       "       [32, 56]])"
      ]
     },
     "execution_count": 76,
     "metadata": {},
     "output_type": "execute_result"
    }
   ],
   "source": [
    "h = np.array([[34,21],[56,32]])\n",
    "np.sort(h)"
   ]
  },
  {
   "cell_type": "code",
   "execution_count": 91,
   "id": "67e17366",
   "metadata": {},
   "outputs": [
    {
     "data": {
      "text/plain": [
       "array([7, 6, 5, 4, 3])"
      ]
     },
     "execution_count": 91,
     "metadata": {},
     "output_type": "execute_result"
    }
   ],
   "source": [
    "#flip() will flip the values that is last becomes first and first becomes last vice versa\n",
    "f = np.array([3,4,5,6,7])\n",
    "np.flip(f)"
   ]
  },
  {
   "cell_type": "code",
   "execution_count": 93,
   "id": "d705beba",
   "metadata": {},
   "outputs": [
    {
     "data": {
      "text/plain": [
       "array([[7, 6, 4],\n",
       "       [1, 5, 3],\n",
       "       [3, 4, 8]])"
      ]
     },
     "execution_count": 93,
     "metadata": {},
     "output_type": "execute_result"
    }
   ],
   "source": [
    "d = np.array([[8,4,3],[3,5,1],[4,6,7]])\n",
    "np.flip(d)"
   ]
  },
  {
   "cell_type": "code",
   "execution_count": 95,
   "id": "104b81ad",
   "metadata": {},
   "outputs": [
    {
     "data": {
      "text/plain": [
       "array([[7, 6, 5, 3],\n",
       "       [1, 2, 3, 5],\n",
       "       [1, 2, 3, 5],\n",
       "       [4, 3, 7, 6]])"
      ]
     },
     "execution_count": 95,
     "metadata": {},
     "output_type": "execute_result"
    }
   ],
   "source": [
    "e = np.array([[6,7,3,4],[5,3,2,1],[5,3,2,1],[3,5,6,7]])\n",
    "np.flip(e)"
   ]
  },
  {
   "cell_type": "code",
   "execution_count": 97,
   "id": "18bf0131",
   "metadata": {},
   "outputs": [
    {
     "data": {
      "text/plain": [
       "array([[7, 6],\n",
       "       [2, 3]])"
      ]
     },
     "execution_count": 97,
     "metadata": {},
     "output_type": "execute_result"
    }
   ],
   "source": [
    "h = np.array([[3,2],[6,7]])\n",
    "np.flip(h)"
   ]
  },
  {
   "cell_type": "code",
   "execution_count": 99,
   "id": "9bb799eb",
   "metadata": {},
   "outputs": [
    {
     "data": {
      "text/plain": [
       "array([[4, 3, 1, 9, 2],\n",
       "       [1, 2, 3, 8, 7],\n",
       "       [8, 7, 6, 5, 3],\n",
       "       [3, 1, 3, 9, 8],\n",
       "       [5, 6, 9, 8, 7]])"
      ]
     },
     "execution_count": 99,
     "metadata": {},
     "output_type": "execute_result"
    }
   ],
   "source": [
    "u = np.array([[7,8,9,6,5],[8,9,3,1,3],[3,5,6,7,8],[7,8,3,2,1],[2,9,1,3,4]])\n",
    "np.flip(u)"
   ]
  },
  {
   "cell_type": "code",
   "execution_count": 104,
   "id": "8f95a6fa",
   "metadata": {},
   "outputs": [
    {
     "data": {
      "text/plain": [
       "(array([0, 2, 4, 6, 8], dtype=int64),)"
      ]
     },
     "execution_count": 104,
     "metadata": {},
     "output_type": "execute_result"
    }
   ],
   "source": [
    "# where() search values inside the array\n",
    "f = np.array([1,2,3,4,5,6,7,8,9])\n",
    "np.where(f%2==1)"
   ]
  },
  {
   "cell_type": "code",
   "execution_count": 105,
   "id": "5d2a6d9a",
   "metadata": {},
   "outputs": [
    {
     "data": {
      "text/plain": [
       "(array([1, 3, 5, 7], dtype=int64),)"
      ]
     },
     "execution_count": 105,
     "metadata": {},
     "output_type": "execute_result"
    }
   ],
   "source": [
    "f = np.array([1,2,3,4,5,6,7,8,9])\n",
    "np.where(f%2==0)"
   ]
  },
  {
   "cell_type": "code",
   "execution_count": 107,
   "id": "392752ca",
   "metadata": {},
   "outputs": [
    {
     "data": {
      "text/plain": [
       "(array([0, 4], dtype=int64),)"
      ]
     },
     "execution_count": 107,
     "metadata": {},
     "output_type": "execute_result"
    }
   ],
   "source": [
    "h = np.array([4,7,8,9,4,6])\n",
    "np.where(h*2==8)"
   ]
  },
  {
   "cell_type": "code",
   "execution_count": 116,
   "id": "419d99e1",
   "metadata": {},
   "outputs": [
    {
     "data": {
      "text/plain": [
       "(array([0], dtype=int64),)"
      ]
     },
     "execution_count": 116,
     "metadata": {},
     "output_type": "execute_result"
    }
   ],
   "source": [
    "d = np.array([5,10,15,20,25,30,34,89,67])\n",
    "np.where(d*5==25)"
   ]
  },
  {
   "cell_type": "code",
   "execution_count": 126,
   "id": "fc7e0879",
   "metadata": {},
   "outputs": [
    {
     "data": {
      "text/plain": [
       "(array([], dtype=int64),)"
      ]
     },
     "execution_count": 126,
     "metadata": {},
     "output_type": "execute_result"
    }
   ],
   "source": [
    "y = np.array([4,5,6,7,8,9,10,11,12])\n",
    "np.where(y%2==2)"
   ]
  }
 ],
 "metadata": {
  "kernelspec": {
   "display_name": "Python 3 (ipykernel)",
   "language": "python",
   "name": "python3"
  },
  "language_info": {
   "codemirror_mode": {
    "name": "ipython",
    "version": 3
   },
   "file_extension": ".py",
   "mimetype": "text/x-python",
   "name": "python",
   "nbconvert_exporter": "python",
   "pygments_lexer": "ipython3",
   "version": "3.9.12"
  }
 },
 "nbformat": 4,
 "nbformat_minor": 5
}
